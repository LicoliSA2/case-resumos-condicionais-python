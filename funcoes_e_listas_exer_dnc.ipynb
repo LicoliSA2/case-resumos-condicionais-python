{
  "nbformat": 4,
  "nbformat_minor": 0,
  "metadata": {
    "colab": {
      "provenance": [],
      "authorship_tag": "ABX9TyMOtXYs7xyYvPtLaJJtuRLy",
      "include_colab_link": true
    },
    "kernelspec": {
      "name": "python3",
      "display_name": "Python 3"
    },
    "language_info": {
      "name": "python"
    }
  },
  "cells": [
    {
      "cell_type": "markdown",
      "metadata": {
        "id": "view-in-github",
        "colab_type": "text"
      },
      "source": [
        "<a href=\"https://colab.research.google.com/github/LicoliSA2/case-resumos-condicionais-python/blob/main/funcoes_e_listas_exer_dnc.ipynb\" target=\"_parent\"><img src=\"https://colab.research.google.com/assets/colab-badge.svg\" alt=\"Open In Colab\"/></a>"
      ]
    },
    {
      "cell_type": "code",
      "execution_count": 22,
      "metadata": {
        "colab": {
          "base_uri": "https://localhost:8080/"
        },
        "id": "MQzdk1lRV1WF",
        "outputId": "2e9f0c9f-42ac-4d69-c44b-68d1fc98b612"
      },
      "outputs": [
        {
          "output_type": "stream",
          "name": "stdout",
          "text": [
            "Digite seu nome: Licóli\n",
            "Olá, Licóli! Seja bem-vinda!\n"
          ]
        }
      ],
      "source": [
        "#Saudação personalizada\n",
        "\n",
        "def saudacao(nome):\n",
        "  print(f\"Olá, {nome}! Seja bem-vinda!\")\n",
        "\n",
        "#Interação com o usuário:\n",
        "nome_usuario = input(\"Digite seu nome: \")\n",
        "saudacao(nome_usuario)\n",
        "\n"
      ]
    },
    {
      "cell_type": "code",
      "source": [
        "#Função soma\n",
        "\n",
        "def soma(a, b):\n",
        "  return a + b\n",
        "\n",
        "#Interação com o usuário:\n",
        "resultado = soma(459, 9)\n",
        "print(resultado)\n"
      ],
      "metadata": {
        "colab": {
          "base_uri": "https://localhost:8080/"
        },
        "id": "ejIFedD3asey",
        "outputId": "aac6ee16-f508-446c-e834-8e452d5dd564"
      },
      "execution_count": 45,
      "outputs": [
        {
          "output_type": "stream",
          "name": "stdout",
          "text": [
            "468\n"
          ]
        }
      ]
    },
    {
      "cell_type": "code",
      "source": [
        "#Função Par ou Impar\n",
        "\n",
        "def eh_par(numero):\n",
        "  return numero % 2 == 0\n",
        "\n",
        "# 📌 Exemplo de Entrada:\n",
        "print(eh_par(8))\n",
        "print(eh_par(7))\n"
      ],
      "metadata": {
        "colab": {
          "base_uri": "https://localhost:8080/"
        },
        "id": "-bm6bEpCjmdC",
        "outputId": "f266d264-1f44-4f2c-e538-a6910ba21525"
      },
      "execution_count": 23,
      "outputs": [
        {
          "output_type": "stream",
          "name": "stdout",
          "text": [
            "True\n",
            "False\n"
          ]
        }
      ]
    },
    {
      "cell_type": "code",
      "source": [
        "#Calculo Fatorial\n",
        "def fatorial(n):\n",
        "    resultado = 1\n",
        "    for i in range(1, n + 1):\n",
        "        resultado *= i\n",
        "    return resultado\n",
        "\n",
        "# 📌 Exemplo de Entrada:\n",
        "print(fatorial(5))\n",
        "\n"
      ],
      "metadata": {
        "colab": {
          "base_uri": "https://localhost:8080/"
        },
        "id": "SsshjfiIuCzl",
        "outputId": "4ddc67ad-6185-4f17-8d79-c978de2feaa8"
      },
      "execution_count": 31,
      "outputs": [
        {
          "output_type": "stream",
          "name": "stdout",
          "text": [
            "120\n"
          ]
        }
      ]
    },
    {
      "cell_type": "code",
      "source": [
        "# Funções\n",
        "# Gerador de Tabuada\n",
        "\n",
        "#1. Definição da função / 2. Indentação\n",
        "def tabuada(n):\n",
        "#3. Loop for\n",
        "    for i in range(1, 11):\n",
        "#4. Imprimir a multiplicação\n",
        "        print(f\"{n} x {i} = {n * i}\")\n",
        "\n",
        "#4. Imprimir a multiplicação\n",
        "tabuada(8)\n",
        "\n"
      ],
      "metadata": {
        "colab": {
          "base_uri": "https://localhost:8080/"
        },
        "id": "rJrXAAW2uIxk",
        "outputId": "9f139265-2454-4d78-930b-66315ccaf353"
      },
      "execution_count": 41,
      "outputs": [
        {
          "output_type": "stream",
          "name": "stdout",
          "text": [
            "8 x 1 = 8\n",
            "8 x 2 = 16\n",
            "8 x 3 = 24\n",
            "8 x 4 = 32\n",
            "8 x 5 = 40\n",
            "8 x 6 = 48\n",
            "8 x 7 = 56\n",
            "8 x 8 = 64\n",
            "8 x 9 = 72\n",
            "8 x 10 = 80\n"
          ]
        }
      ]
    },
    {
      "cell_type": "code",
      "source": [
        "#Funções e listas\n",
        "# Maior número da lista\n",
        "\n",
        "def maior_numero(lista):\n",
        "    # Assume que o maior número é o primeiro elemento da lista\n",
        "    maior = lista[0]\n",
        "\n",
        "    # Percorre cada número na lista\n",
        "    for num in lista:\n",
        "        # Se encontrar um número maior que o atual 'maior', atualiza o valor\n",
        "        if num > maior:\n",
        "            maior = num\n",
        "\n",
        "    # Retorna o maior número encontrado na lista\n",
        "    return maior\n",
        "\n",
        "# Teste da função com a lista do exemplo\n",
        "print(maior_numero([10, 25, 178, 42, 17]))\n",
        "\n"
      ],
      "metadata": {
        "colab": {
          "base_uri": "https://localhost:8080/"
        },
        "id": "_HroCsQd2l0Z",
        "outputId": "3bbf2411-3d9f-4e41-eba5-d45279699a22"
      },
      "execution_count": 44,
      "outputs": [
        {
          "output_type": "stream",
          "name": "stdout",
          "text": [
            "178\n"
          ]
        }
      ]
    },
    {
      "cell_type": "code",
      "source": [
        "# Media\n",
        "\n",
        "def media(lista):\n",
        "    # Soma todos os números da lista usando a função sum()\n",
        "    soma = sum(lista)\n",
        "    # Conta quantos números tem na lista com len()\n",
        "    quantidade = len(lista)\n",
        "    # Calcula a média dividindo a soma pela quantidade de números\n",
        "    resultado = soma / quantidade\n",
        "    # Retorna o valor da média\n",
        "    return resultado\n",
        "\n",
        "# Teste da função com a lista do exemplo\n",
        "print(media([10, 25, 8, 42, 90]))\n"
      ],
      "metadata": {
        "colab": {
          "base_uri": "https://localhost:8080/"
        },
        "id": "Ke_DTeZZ3Dmw",
        "outputId": "d9e675e2-a9fa-481f-ba9d-44588549f4c8"
      },
      "execution_count": 47,
      "outputs": [
        {
          "output_type": "stream",
          "name": "stdout",
          "text": [
            "35.0\n"
          ]
        }
      ]
    },
    {
      "cell_type": "code",
      "source": [
        "#Função - contar pares\n",
        "\n",
        "def contar_pares(lista):\n",
        "    # Inicializa o contador de pares com zero\n",
        "    contador = 0\n",
        "\n",
        "    # Percorre cada número na lista\n",
        "    for num in lista:\n",
        "        # Verifica se o número é par usando o operador módulo (%)\n",
        "        # Se o resto da divisão por 2 for zero, é par\n",
        "        if num % 2 == 0:\n",
        "            # Incrementa o contador de pares\n",
        "            contador += 1\n",
        "\n",
        "    # Retorna a quantidade total de números pares encontrados\n",
        "    return contador\n",
        "\n",
        "# Teste da função com a lista do exemplo\n",
        "print(contar_pares([1, 2, 3, 4, 5, 6]))\n"
      ],
      "metadata": {
        "colab": {
          "base_uri": "https://localhost:8080/"
        },
        "id": "d7XKcAGx7ckr",
        "outputId": "711ab44e-e165-418a-b845-ab008da0ae35"
      },
      "execution_count": 48,
      "outputs": [
        {
          "output_type": "stream",
          "name": "stdout",
          "text": [
            "3\n"
          ]
        }
      ]
    },
    {
      "cell_type": "code",
      "source": [
        "# Função - Inverter Lista\n",
        "\n",
        "def inverter_lista(lista):\n",
        "    # Usa a técnica de fatiamento (slicing) para inverter a lista\n",
        "    # [::-1] significa \"da direita para a esquerda\"\n",
        "    lista_invertida = lista[::-1]\n",
        "\n",
        "    # Retorna a lista invertida\n",
        "    return lista_invertida\n",
        "\n",
        "# Teste da função com a lista do exemplo\n",
        "print(inverter_lista([1, 2, 3, 4, 5, 6]))\n"
      ],
      "metadata": {
        "colab": {
          "base_uri": "https://localhost:8080/"
        },
        "id": "qtNtKiQM7ozU",
        "outputId": "0d6cd862-8594-46e3-9bf1-79ca89da2731"
      },
      "execution_count": 49,
      "outputs": [
        {
          "output_type": "stream",
          "name": "stdout",
          "text": [
            "[6, 5, 4, 3, 2, 1]\n"
          ]
        }
      ]
    },
    {
      "cell_type": "code",
      "source": [
        "# Remover Duplicatas\n",
        "\n",
        "def remover_duplicatas(lista):\n",
        "    # Converte a lista em um conjunto (set), que não permite elementos duplicados\n",
        "    sem_duplicatas = set(lista)\n",
        "\n",
        "    # Converte o conjunto de volta para lista\n",
        "    nova_lista = list(sem_duplicatas)\n",
        "\n",
        "    # Retorna a nova lista, agora sem elementos repetidos\n",
        "    return nova_lista\n",
        "\n",
        "# Teste da função\n",
        "print(remover_duplicatas([20, 21, 50, 1, 2, 2, 44, 3, 4, 6, 3, 4, 5, 6]))\n"
      ],
      "metadata": {
        "colab": {
          "base_uri": "https://localhost:8080/"
        },
        "id": "32RXnAGc-k-G",
        "outputId": "9de7a514-8042-47f0-9a08-421089c71355"
      },
      "execution_count": 56,
      "outputs": [
        {
          "output_type": "stream",
          "name": "stdout",
          "text": [
            "[1, 2, 3, 4, 5, 6, 44, 50, 20, 21]\n"
          ]
        }
      ]
    },
    {
      "cell_type": "code",
      "source": [
        "# Remover Duplicatas - mantendo a ordem original da lista\n",
        "\n",
        "def remover_duplicatas(lista):\n",
        "    nova_lista = []\n",
        "    for item in lista:\n",
        "        if item not in nova_lista:\n",
        "            nova_lista.append(item)\n",
        "    return nova_lista\n",
        "\n",
        "print(remover_duplicatas([20, 21, 50, 1, 2, 2, 3, 4, 6, 3, 44, 4, 5, 6]))\n"
      ],
      "metadata": {
        "colab": {
          "base_uri": "https://localhost:8080/"
        },
        "id": "yZVivcQm_D4g",
        "outputId": "f311be97-69dd-479c-bc8f-dba06c2bb878"
      },
      "execution_count": 55,
      "outputs": [
        {
          "output_type": "stream",
          "name": "stdout",
          "text": [
            "[20, 21, 50, 1, 2, 3, 4, 6, 44, 5]\n"
          ]
        }
      ]
    }
  ]
}