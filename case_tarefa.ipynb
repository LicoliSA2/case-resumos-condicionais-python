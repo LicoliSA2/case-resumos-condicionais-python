{
  "nbformat": 4,
  "nbformat_minor": 0,
  "metadata": {
    "colab": {
      "provenance": [],
      "authorship_tag": "ABX9TyPBfbFCv6afxQTLakU2YC2K",
      "include_colab_link": true
    },
    "kernelspec": {
      "name": "python3",
      "display_name": "Python 3"
    },
    "language_info": {
      "name": "python"
    }
  },
  "cells": [
    {
      "cell_type": "markdown",
      "metadata": {
        "id": "view-in-github",
        "colab_type": "text"
      },
      "source": [
        "<a href=\"https://colab.research.google.com/github/LicoliSA2/case-resumos-condicionais-python/blob/main/case_tarefa.ipynb\" target=\"_parent\"><img src=\"https://colab.research.google.com/assets/colab-badge.svg\" alt=\"Open In Colab\"/></a>"
      ]
    },
    {
      "cell_type": "code",
      "execution_count": 8,
      "metadata": {
        "colab": {
          "base_uri": "https://localhost:8080/"
        },
        "id": "BbGk7Sv1cgXM",
        "outputId": "4f9577a2-0984-4164-b00c-fe9d8f4d2aea"
      },
      "outputs": [
        {
          "output_type": "stream",
          "name": "stdout",
          "text": [
            "Digite o primeiro número: 9\n",
            "Digite o segundo número: 5\n",
            "\n",
            "Resultados das operações com 9.0 e 5.0:\n",
            "Soma: 14.0\n",
            "Subtração: 4.0\n",
            "Multiplicação: 45.0\n",
            "Divisão: 1.8\n",
            "Divisão inteira: 1.0\n",
            "Módulo: 4.0\n",
            "Exponenciação: 59049.0\n"
          ]
        }
      ],
      "source": [
        "# Operações Básicas\n",
        "\n",
        "# Entrada de dados\n",
        "numero1 = float(input(\"Digite o primeiro número: \"))\n",
        "numero2 = float(input(\"Digite o segundo número: \"))\n",
        "\n",
        "# Operações\n",
        "soma = numero1 + numero2\n",
        "subtracao = numero1 - numero2\n",
        "multiplicacao = numero1 * numero2\n",
        "divisao = numero1 / numero2\n",
        "divisao_inteira = numero1 // numero2\n",
        "modulo = numero1 % numero2\n",
        "exponenciacao = numero1 ** numero2\n",
        "\n",
        "# Saída de dados\n",
        "print(f\"\\nResultados das operações com {numero1} e {numero2}:\")\n",
        "print(f\"Soma: {soma}\")\n",
        "print(f\"Subtração: {subtracao}\")\n",
        "print(f\"Multiplicação: {multiplicacao}\")\n",
        "print(f\"Divisão: {divisao}\")\n",
        "print(f\"Divisão inteira: {divisao_inteira}\")\n",
        "print(f\"Módulo: {modulo}\")\n",
        "print(f\"Exponenciação: {exponenciacao}\")\n"
      ]
    },
    {
      "cell_type": "code",
      "source": [
        "# Média de Notas\n",
        "\n",
        "# Entrada de dados\n",
        "nota1 = float(input(\"Digite a primeira nota: \"))\n",
        "nota2 = float(input(\"Digite a segunda nota: \"))\n",
        "nota3 = float(input(\"Digite a terceira nota: \"))\n",
        "\n",
        "# Cálculo da média\n",
        "media = (nota1 + nota2 + nota3) / 3\n",
        "\n",
        "# Saída de dados\n",
        "print(f\"\\nA média das notas é: {media:.2f}\")\n",
        "\n"
      ],
      "metadata": {
        "colab": {
          "base_uri": "https://localhost:8080/"
        },
        "id": "slkUonR3nWcS",
        "outputId": "8702dcde-a1dc-4f7f-89eb-3838457ce649"
      },
      "execution_count": 9,
      "outputs": [
        {
          "output_type": "stream",
          "name": "stdout",
          "text": [
            "Digite a primeira nota: 7\n",
            "Digite a segunda nota: 8\n",
            "Digite a terceira nota: 6\n",
            "\n",
            "A média das notas é: 7.00\n"
          ]
        }
      ]
    },
    {
      "cell_type": "code",
      "source": [
        "# Exercício 3 - Área de um Círculo\n",
        "\n",
        "import math\n",
        "\n",
        "# Entrada do usuário\n",
        "raio = float(input(\"Digite o raio do círculo: \"))\n",
        "\n",
        "# Cálculo da área\n",
        "area = math.pi * raio**2\n",
        "\n",
        "# Saída do resultado\n",
        "print(f\"A área do círculo com raio {raio} é: {area:.2f}\")\n"
      ],
      "metadata": {
        "colab": {
          "base_uri": "https://localhost:8080/"
        },
        "id": "EF4lLrPqn9Lp",
        "outputId": "3999f454-1a59-4ec8-ad16-3a44c37c120c"
      },
      "execution_count": 10,
      "outputs": [
        {
          "output_type": "stream",
          "name": "stdout",
          "text": [
            "Digite o raio do círculo: 5\n",
            "A área do círculo com raio 5.0 é: 78.54\n"
          ]
        }
      ]
    },
    {
      "cell_type": "code",
      "source": [
        "# Exercício 4 - Conversão de Temperatura\n",
        "\n",
        "# Entrada do usuário\n",
        "celsius = float(input(\"Digite a temperatura em graus Celsius: \"))\n",
        "\n",
        "# Conversão para Fahrenheit\n",
        "fahrenheit = (9 / 5) * celsius + 32\n",
        "\n",
        "# Saída do resultado\n",
        "print(f\"{celsius}°C equivalem a {fahrenheit:.2f}°F\")\n"
      ],
      "metadata": {
        "colab": {
          "base_uri": "https://localhost:8080/"
        },
        "id": "e4pNwYNpowiL",
        "outputId": "1e3b3eee-9279-40bb-cc91-7e894b1a1b3a"
      },
      "execution_count": 11,
      "outputs": [
        {
          "output_type": "stream",
          "name": "stdout",
          "text": [
            "Digite a temperatura em graus Celsius: 25\n",
            "25.0°C equivalem a 77.00°F\n"
          ]
        }
      ]
    },
    {
      "cell_type": "code",
      "source": [
        "# Exercício 5 - Calculadora de Desconto\n",
        "\n",
        "# Entrada dos dados\n",
        "preco_original = float(input(\"Digite o preço do produto: R$ \"))\n",
        "percentual_desconto = float(input(\"Digite o percentual de desconto (%): \"))\n",
        "\n",
        "# Cálculo do desconto\n",
        "desconto = (percentual_desconto / 100) * preco_original\n",
        "preco_final = preco_original - desconto\n",
        "\n",
        "# Saída do resultado\n",
        "print(f\"O valor do desconto é R$ {desconto:.2f}\")\n",
        "print(f\"O preço final com desconto é R$ {preco_final:.2f}\")\n"
      ],
      "metadata": {
        "colab": {
          "base_uri": "https://localhost:8080/"
        },
        "id": "bFDf7NAHo2vo",
        "outputId": "4db00aa8-8add-4fd3-b42e-a58d12a5704a"
      },
      "execution_count": 12,
      "outputs": [
        {
          "output_type": "stream",
          "name": "stdout",
          "text": [
            "Digite o preço do produto: R$ 100\n",
            "Digite o percentual de desconto (%): 20\n",
            "O valor do desconto é R$ 20.00\n",
            "O preço final com desconto é R$ 80.00\n"
          ]
        }
      ]
    },
    {
      "cell_type": "code",
      "source": [
        "# Exercício 6 - Maior de Idade?\n",
        "\n",
        "# Entrada de dados\n",
        "idade = int(input(\"Digite sua idade: \"))\n",
        "\n",
        "# Verificação\n",
        "if idade >= 18:\n",
        "    print(\"Você é maior de idade.\")\n",
        "else:\n",
        "    print(\"Você é menor de idade.\")\n",
        ""
      ],
      "metadata": {
        "colab": {
          "base_uri": "https://localhost:8080/"
        },
        "id": "VFWZW5g0pNjR",
        "outputId": "3e522bcc-7183-4795-cd7b-9e17df0d53c3"
      },
      "execution_count": 14,
      "outputs": [
        {
          "output_type": "stream",
          "name": "stdout",
          "text": [
            "Digite sua idade: 20\n",
            "Você é maior de idade.\n"
          ]
        }
      ]
    },
    {
      "cell_type": "code",
      "source": [
        "# Exercício 7 - Pode Acessar o Sistema?\n",
        "\n",
        "# Entrada de dados\n",
        "administrador = input(\"Você é administrador? (True/False): \") == \"True\"\n",
        "idade = int(input(\"Digite sua idade: \"))\n",
        "conta_ativa = input(\"Sua conta está ativa? (True/False): \") == \"True\"\n",
        "\n",
        "# Verificação de acesso\n",
        "if administrador or (idade > 18 and conta_ativa):\n",
        "    print(\"Acesso permitido.\")\n",
        "else:\n",
        "    print(\"Acesso negado.\")\n",
        ""
      ],
      "metadata": {
        "colab": {
          "base_uri": "https://localhost:8080/"
        },
        "id": "1CRJLmCipZ0D",
        "outputId": "4014dbb9-f0c4-4774-a63f-058b0ea1ae76"
      },
      "execution_count": 18,
      "outputs": [
        {
          "output_type": "stream",
          "name": "stdout",
          "text": [
            "Você é administrador? (True/False): True\n",
            "Digite sua idade: 20\n",
            "Sua conta está ativa? (True/False): True\n",
            "Acesso permitido.\n"
          ]
        }
      ]
    },
    {
      "cell_type": "code",
      "source": [
        "# Peça um número ao usuário (entrada como string, converte para inteiro)\n",
        "numero = int(input(\"Digite um número: \"))\n",
        "\n",
        "# Verifica se o número é par e maior que 10\n",
        "if numero % 2 == 0 and numero > 10:\n",
        "    print(f\"O número {numero} é par e maior que 10.\")\n",
        "else:\n",
        "    print(f\"O número {numero} NÃO é par e maior que 10 ao mesmo tempo.\")\n",
        ""
      ],
      "metadata": {
        "colab": {
          "base_uri": "https://localhost:8080/"
        },
        "id": "7QtqSZ2dqeX_",
        "outputId": "a077cced-6cc2-4bcf-f469-ed8c7099dfc8"
      },
      "execution_count": 19,
      "outputs": [
        {
          "output_type": "stream",
          "name": "stdout",
          "text": [
            "Digite um número: 12\n",
            "O número 12 é par e maior que 10.\n"
          ]
        }
      ]
    },
    {
      "cell_type": "code",
      "source": [
        "# Pergunta a idade e converte para inteiro\n",
        "idade = int(input(\"Digite sua idade: \"))\n",
        "\n",
        "# Pergunta se a documentação está em dia e converte para booleano\n",
        "# O usuário deve digitar True ou False (com T maiúsculo)\n",
        "documentacao_emdia = input(\"Sua documentação está em dia? (True/False): \")\n",
        "\n",
        "# Converter a resposta para booleano\n",
        "if documentacao_emdia == \"True\":\n",
        "    documentacao_emdia = True\n",
        "elif documentacao_emdia == \"False\":\n",
        "    documentacao_emdia = False\n",
        "else:\n",
        "    print(\"Resposta inválida! Por favor, digite True ou False.\")\n",
        "    documentacao_emdia = None\n",
        "\n",
        "# Se a entrada for válida, verifica a condição\n",
        "if documentacao_emdia is not None:\n",
        "    if idade >= 18 and documentacao_emdia:\n",
        "        print(\"Você pode tirar a carteira de motorista.\")\n",
        "    else:\n",
        "        print(\"Você NÃO pode tirar a carteira de motorista.\")\n",
        ""
      ],
      "metadata": {
        "colab": {
          "base_uri": "https://localhost:8080/"
        },
        "id": "v8jQwMwCqpPX",
        "outputId": "120ba861-d997-4012-b68a-096359cf6e20"
      },
      "execution_count": 20,
      "outputs": [
        {
          "output_type": "stream",
          "name": "stdout",
          "text": [
            "Digite sua idade: 17\n",
            "Sua documentação está em dia? (True/False): True\n",
            "Você NÃO pode tirar a carteira de motorista.\n"
          ]
        }
      ]
    },
    {
      "cell_type": "code",
      "source": [
        "# Pergunta quanto o cliente gastou\n",
        "valor_gasto = float(input(\"Informe o valor gasto: R$ \"))\n",
        "\n",
        "# Pergunta se é cliente VIP\n",
        "cliente_vip_input = input(\"É cliente VIP? (True/False): \")\n",
        "\n",
        "# Converte a resposta para booleano\n",
        "if cliente_vip_input == \"True\":\n",
        "    cliente_vip = True\n",
        "elif cliente_vip_input == \"False\":\n",
        "    cliente_vip = False\n",
        "else:\n",
        "    print(\"Resposta inválida! Digite apenas True ou False.\")\n",
        "    cliente_vip = None\n",
        "\n",
        "# Se a entrada for válida, verifica se ganha o brinde\n",
        "if cliente_vip is not None:\n",
        "    if valor_gasto > 100 or cliente_vip:\n",
        "        print(\"Parabéns! Você ganhou um brinde!\")\n",
        "    else:\n",
        "        print(\"Você não ganhou o brinde desta vez.\")\n",
        ""
      ],
      "metadata": {
        "colab": {
          "base_uri": "https://localhost:8080/"
        },
        "id": "tMgurU80t-eJ",
        "outputId": "03e6aac5-5ad9-43cc-c183-788604f66c06"
      },
      "execution_count": 21,
      "outputs": [
        {
          "output_type": "stream",
          "name": "stdout",
          "text": [
            "Informe o valor gasto: R$ 80\n",
            "É cliente VIP? (True/False): True\n",
            "Parabéns! Você ganhou um brinde!\n"
          ]
        }
      ]
    }
  ]
}